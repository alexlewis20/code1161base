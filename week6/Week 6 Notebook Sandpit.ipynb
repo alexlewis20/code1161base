{
 "cells": [
  {
   "cell_type": "markdown",
   "metadata": {
    "deletable": true,
    "editable": true
   },
   "source": [
    "Import"
   ]
  },
  {
   "cell_type": "code",
   "execution_count": 3,
   "metadata": {
    "collapsed": true,
    "deletable": true,
    "editable": true
   },
   "outputs": [],
   "source": [
    "import matplotlib\n",
    "import matplotlib.pyplot as plt\n",
    "import numpy as np\n",
    "import pandas as pd\n",
    "import os"
   ]
  },
  {
   "cell_type": "markdown",
   "metadata": {
    "deletable": true,
    "editable": true
   },
   "source": [
    "Set up matplotlib figures"
   ]
  },
  {
   "cell_type": "code",
   "execution_count": 4,
   "metadata": {
    "collapsed": false,
    "deletable": true,
    "editable": true
   },
   "outputs": [],
   "source": [
    "%matplotlib inline\n",
    "plt.rcParams['figure.figsize'] = (20, 10)"
   ]
  },
  {
   "cell_type": "markdown",
   "metadata": {
    "deletable": true,
    "editable": true
   },
   "source": [
    "Load table"
   ]
  },
  {
   "cell_type": "code",
   "execution_count": 5,
   "metadata": {
    "collapsed": false,
    "deletable": true,
    "editable": true
   },
   "outputs": [
    {
     "name": "stdout",
     "output_type": "stream",
     "text": [
      "loading from file\n"
     ]
    }
   ],
   "source": [
    "filepath = \"Alexandria.csv\"\n",
    "sales_data = pd.read_csv(filepath)\n",
    "print \"loading from file\""
   ]
  },
  {
   "cell_type": "code",
   "execution_count": 6,
   "metadata": {
    "collapsed": false,
    "deletable": true,
    "editable": true
   },
   "outputs": [
    {
     "data": {
      "text/html": [
       "<div>\n",
       "<table border=\"1\" class=\"dataframe\">\n",
       "  <thead>\n",
       "    <tr style=\"text-align: right;\">\n",
       "      <th></th>\n",
       "      <th>ADDRESS</th>\n",
       "      <th>SALE PRICE</th>\n",
       "      <th>SALE DATE</th>\n",
       "      <th>AREA</th>\n",
       "      <th>STRATA/NON STRATA</th>\n",
       "      <th>MULTI-PROPERTY SALE (Y/N)</th>\n",
       "      <th>PROPERTY NUMBER</th>\n",
       "      <th>DEALING NUMBER</th>\n",
       "      <th>EXTRACTION DATE</th>\n",
       "    </tr>\n",
       "  </thead>\n",
       "  <tbody>\n",
       "    <tr>\n",
       "      <th>0</th>\n",
       "      <td>34 ALEXANDER STREET, ALEXANDRIA NSW 2015</td>\n",
       "      <td>1285000</td>\n",
       "      <td>16 March 2016</td>\n",
       "      <td>88.53</td>\n",
       "      <td>NON STRATA</td>\n",
       "      <td>No</td>\n",
       "      <td>2106326</td>\n",
       "      <td>AK410905</td>\n",
       "      <td>23 April 2017</td>\n",
       "    </tr>\n",
       "    <tr>\n",
       "      <th>1</th>\n",
       "      <td>34 ALEXANDER STREET, ALEXANDRIA NSW 2015</td>\n",
       "      <td>935000</td>\n",
       "      <td>27 September 2013</td>\n",
       "      <td>88.53</td>\n",
       "      <td>NON STRATA</td>\n",
       "      <td>No</td>\n",
       "      <td>2106326</td>\n",
       "      <td>AI144243</td>\n",
       "      <td>23 April 2017</td>\n",
       "    </tr>\n",
       "    <tr>\n",
       "      <th>2</th>\n",
       "      <td>36 ALEXANDER STREET, ALEXANDRIA NSW 2015</td>\n",
       "      <td>885000</td>\n",
       "      <td>8 July 2013</td>\n",
       "      <td>88.50</td>\n",
       "      <td>NON STRATA</td>\n",
       "      <td>No</td>\n",
       "      <td>2106327</td>\n",
       "      <td>AI8960</td>\n",
       "      <td>23 April 2017</td>\n",
       "    </tr>\n",
       "  </tbody>\n",
       "</table>\n",
       "</div>"
      ],
      "text/plain": [
       "                                    ADDRESS  SALE PRICE          SALE DATE  \\\n",
       "0  34 ALEXANDER STREET, ALEXANDRIA NSW 2015     1285000      16 March 2016   \n",
       "1  34 ALEXANDER STREET, ALEXANDRIA NSW 2015      935000  27 September 2013   \n",
       "2  36 ALEXANDER STREET, ALEXANDRIA NSW 2015      885000        8 July 2013   \n",
       "\n",
       "    AREA STRATA/NON STRATA MULTI-PROPERTY SALE (Y/N)  PROPERTY NUMBER  \\\n",
       "0  88.53        NON STRATA                        No          2106326   \n",
       "1  88.53        NON STRATA                        No          2106326   \n",
       "2  88.50        NON STRATA                        No          2106327   \n",
       "\n",
       "  DEALING NUMBER EXTRACTION DATE  \n",
       "0       AK410905   23 April 2017  \n",
       "1       AI144243   23 April 2017  \n",
       "2         AI8960   23 April 2017  "
      ]
     },
     "execution_count": 6,
     "metadata": {},
     "output_type": "execute_result"
    }
   ],
   "source": [
    "sales_data.head(3)"
   ]
  },
  {
   "cell_type": "code",
   "execution_count": 9,
   "metadata": {
    "collapsed": false,
    "deletable": true,
    "editable": true
   },
   "outputs": [
    {
     "data": {
      "text/plain": [
       "'36 ALEXANDER STREET, ALEXANDRIA NSW 2015'"
      ]
     },
     "execution_count": 9,
     "metadata": {},
     "output_type": "execute_result"
    }
   ],
   "source": [
    "row_five = sales_data.iloc[2]\n",
    "row_five['ADDRESS']"
   ]
  },
  {
   "cell_type": "code",
   "execution_count": 7,
   "metadata": {
    "collapsed": false,
    "deletable": true,
    "editable": true
   },
   "outputs": [
    {
     "data": {
      "text/plain": [
       "0        16 March 2016\n",
       "1    27 September 2013\n",
       "2          8 July 2013\n",
       "Name: SALE DATE, dtype: object"
      ]
     },
     "execution_count": 7,
     "metadata": {},
     "output_type": "execute_result"
    }
   ],
   "source": [
    "sales_data[\"SALE DATE\"][:3]"
   ]
  },
  {
   "cell_type": "code",
   "execution_count": 8,
   "metadata": {
    "collapsed": false,
    "deletable": true,
    "editable": true
   },
   "outputs": [
    {
     "data": {
      "text/plain": [
       "0    1285000\n",
       "1     935000\n",
       "2     885000\n",
       "3    1200000\n",
       "4     795000\n",
       "5     825000\n",
       "6    1460000\n",
       "7     952000\n",
       "8     290000\n",
       "9     248000\n",
       "Name: SALE PRICE, dtype: int64"
      ]
     },
     "execution_count": 8,
     "metadata": {},
     "output_type": "execute_result"
    }
   ],
   "source": [
    "sales_data[\"SALE PRICE\"][:10]"
   ]
  },
  {
   "cell_type": "code",
   "execution_count": 9,
   "metadata": {
    "collapsed": false,
    "deletable": true,
    "editable": true
   },
   "outputs": [
    {
     "data": {
      "text/plain": [
       "<matplotlib.axes._subplots.AxesSubplot at 0x7fec2e447610>"
      ]
     },
     "execution_count": 9,
     "metadata": {},
     "output_type": "execute_result"
    },
    {
     "data": {
      "image/png": "[encoded data removed]",
      "text/plain": [
       "<matplotlib.figure.Figure at 0x7fec2e67ae90>"
      ]
     },
     "metadata": {},
     "output_type": "display_data"
    }
   ],
   "source": [
    "sales_data[\"SALE PRICE\"][sales_data[\"SALE PRICE\"] < 2000000].hist(bins=100)"
   ]
  },
  {
   "cell_type": "markdown",
   "metadata": {
    "deletable": true,
    "editable": true
   },
   "source": [
    "## Strata status"
   ]
  },
  {
   "cell_type": "code",
   "execution_count": 10,
   "metadata": {
    "collapsed": false,
    "deletable": true,
    "editable": true
   },
   "outputs": [],
   "source": [
    "data_list = sales_data[\"STRATA/NON STRATA\"]\n",
    "data_series = pd.Series(data_list)\n",
    "non_strata_pattern = [\"NON STRATA\" in x for x in data_series]\n",
    "strata_pattern = [\"STRATA\" in x for x in data_series]\n",
    "\n",
    "non_strata_price = sales_data[\"SALE PRICE\"][non_strata_pattern]\n",
    "strata_price = sales_data[\"SALE PRICE\"][strata_pattern]"
   ]
  },
  {
   "cell_type": "markdown",
   "metadata": {
    "deletable": true,
    "editable": true
   },
   "source": [
    "### Plot strata vs Non Strata"
   ]
  },
  {
   "cell_type": "code",
   "execution_count": 11,
   "metadata": {
    "collapsed": false,
    "deletable": true,
    "editable": true,
    "scrolled": false
   },
   "outputs": [
    {
     "data": {
      "image/png": "[encoded data removed]",
      "text/plain": [
       "<matplotlib.figure.Figure at 0x7fec2dd048d0>"
      ]
     },
     "metadata": {},
     "output_type": "display_data"
    }
   ],
   "source": [
    "plt.hist(strata_price, bins=50, range=(0, 2500000), facecolor=\"#FF0000\", alpha=1)\n",
    "plt.hist(non_strata_price, bins=50, range=(0, 2500000), facecolor=\"#00FF00\", alpha=1)\n",
    "plt.show()"
   ]
  },
  {
   "cell_type": "markdown",
   "metadata": {
    "deletable": true,
    "editable": true
   },
   "source": [
    "## Date information\n",
    "Note the .drop_duplicates(subset=[\"string']) to remove the duplicate properties"
   ]
  },
  {
   "cell_type": "code",
   "execution_count": 12,
   "metadata": {
    "collapsed": false,
    "deletable": true,
    "editable": true,
    "scrolled": true
   },
   "outputs": [
    {
     "data": {
      "text/html": [
       "<div>\n",
       "<table border=\"1\" class=\"dataframe\">\n",
       "  <thead>\n",
       "    <tr style=\"text-align: right;\">\n",
       "      <th></th>\n",
       "      <th>ADDRESS</th>\n",
       "      <th>SALE PRICE</th>\n",
       "      <th>SALE DATE</th>\n",
       "      <th>AREA</th>\n",
       "      <th>STRATA/NON STRATA</th>\n",
       "      <th>MULTI-PROPERTY SALE (Y/N)</th>\n",
       "      <th>PROPERTY NUMBER</th>\n",
       "      <th>DEALING NUMBER</th>\n",
       "      <th>EXTRACTION DATE</th>\n",
       "    </tr>\n",
       "  </thead>\n",
       "  <tbody>\n",
       "    <tr>\n",
       "      <th>113</th>\n",
       "      <td>74 BOTANY ROAD, ALEXANDRIA NSW 2015</td>\n",
       "      <td>5300000</td>\n",
       "      <td>2015-03-20</td>\n",
       "      <td>986.2</td>\n",
       "      <td>NON STRATA</td>\n",
       "      <td>No</td>\n",
       "      <td>2109595</td>\n",
       "      <td>AJ521496</td>\n",
       "      <td>23 April 2017</td>\n",
       "    </tr>\n",
       "    <tr>\n",
       "      <th>114</th>\n",
       "      <td>84 BOTANY ROAD, ALEXANDRIA NSW 2015</td>\n",
       "      <td>4700000</td>\n",
       "      <td>2015-03-20</td>\n",
       "      <td>683.7</td>\n",
       "      <td>NON STRATA</td>\n",
       "      <td>No</td>\n",
       "      <td>2109596</td>\n",
       "      <td>AJ521481</td>\n",
       "      <td>23 April 2017</td>\n",
       "    </tr>\n",
       "    <tr>\n",
       "      <th>115</th>\n",
       "      <td>134 BOTANY ROAD, ALEXANDRIA NSW 2015</td>\n",
       "      <td>2760000</td>\n",
       "      <td>2014-10-31</td>\n",
       "      <td>588.1</td>\n",
       "      <td>NON STRATA</td>\n",
       "      <td>No</td>\n",
       "      <td>2109603</td>\n",
       "      <td>AJ149475</td>\n",
       "      <td>23 April 2017</td>\n",
       "    </tr>\n",
       "    <tr>\n",
       "      <th>116</th>\n",
       "      <td>146 BOTANY ROAD, ALEXANDRIA NSW 2015</td>\n",
       "      <td>3161450</td>\n",
       "      <td>2013-11-29</td>\n",
       "      <td>654.0</td>\n",
       "      <td>NON STRATA</td>\n",
       "      <td>Yes (2)</td>\n",
       "      <td>2109608</td>\n",
       "      <td>AI441592</td>\n",
       "      <td>23 April 2017</td>\n",
       "    </tr>\n",
       "    <tr>\n",
       "      <th>117</th>\n",
       "      <td>330 BOTANY ROAD, ALEXANDRIA NSW 2015</td>\n",
       "      <td>8500000</td>\n",
       "      <td>2012-07-03</td>\n",
       "      <td>1656.3</td>\n",
       "      <td>NON STRATA</td>\n",
       "      <td>Yes (2)</td>\n",
       "      <td>2109643</td>\n",
       "      <td>AH182986</td>\n",
       "      <td>23 April 2017</td>\n",
       "    </tr>\n",
       "    <tr>\n",
       "      <th>119</th>\n",
       "      <td>338 BOTANY ROAD, ALEXANDRIA NSW 2015</td>\n",
       "      <td>9702908</td>\n",
       "      <td>2012-07-31</td>\n",
       "      <td>5238.0</td>\n",
       "      <td>NON STRATA</td>\n",
       "      <td>No</td>\n",
       "      <td>2109645</td>\n",
       "      <td>AH232908</td>\n",
       "      <td>23 April 2017</td>\n",
       "    </tr>\n",
       "    <tr>\n",
       "      <th>120</th>\n",
       "      <td>552 BOTANY ROAD, ALEXANDRIA NSW 2015</td>\n",
       "      <td>6187500</td>\n",
       "      <td>2016-04-21</td>\n",
       "      <td>834.7</td>\n",
       "      <td>NON STRATA</td>\n",
       "      <td>No</td>\n",
       "      <td>2109774</td>\n",
       "      <td>AK509170</td>\n",
       "      <td>23 April 2017</td>\n",
       "    </tr>\n",
       "    <tr>\n",
       "      <th>121</th>\n",
       "      <td>556 BOTANY ROAD, ALEXANDRIA NSW 2015</td>\n",
       "      <td>6880000</td>\n",
       "      <td>2016-08-24</td>\n",
       "      <td>954.8</td>\n",
       "      <td>NON STRATA</td>\n",
       "      <td>No</td>\n",
       "      <td>2109775</td>\n",
       "      <td>AK950587</td>\n",
       "      <td>23 April 2017</td>\n",
       "    </tr>\n",
       "    <tr>\n",
       "      <th>122</th>\n",
       "      <td>562 BOTANY ROAD, ALEXANDRIA NSW 2015</td>\n",
       "      <td>81075000</td>\n",
       "      <td>2016-07-10</td>\n",
       "      <td>2517.0</td>\n",
       "      <td>NON STRATA</td>\n",
       "      <td>Yes (11)</td>\n",
       "      <td>2109777</td>\n",
       "      <td>AM180777</td>\n",
       "      <td>23 April 2017</td>\n",
       "    </tr>\n",
       "    <tr>\n",
       "      <th>123</th>\n",
       "      <td>57/1 SHIRLEY STREET, ALEXANDRIA NSW 2015</td>\n",
       "      <td>845000</td>\n",
       "      <td>2016-12-06</td>\n",
       "      <td>0.0</td>\n",
       "      <td>STRATA</td>\n",
       "      <td>No</td>\n",
       "      <td>2993673</td>\n",
       "      <td>AM175877</td>\n",
       "      <td>23 April 2017</td>\n",
       "    </tr>\n",
       "  </tbody>\n",
       "</table>\n",
       "</div>"
      ],
      "text/plain": [
       "                                      ADDRESS  SALE PRICE  SALE DATE    AREA  \\\n",
       "113       74 BOTANY ROAD, ALEXANDRIA NSW 2015     5300000 2015-03-20   986.2   \n",
       "114       84 BOTANY ROAD, ALEXANDRIA NSW 2015     4700000 2015-03-20   683.7   \n",
       "115      134 BOTANY ROAD, ALEXANDRIA NSW 2015     2760000 2014-10-31   588.1   \n",
       "116      146 BOTANY ROAD, ALEXANDRIA NSW 2015     3161450 2013-11-29   654.0   \n",
       "117      330 BOTANY ROAD, ALEXANDRIA NSW 2015     8500000 2012-07-03  1656.3   \n",
       "119      338 BOTANY ROAD, ALEXANDRIA NSW 2015     9702908 2012-07-31  5238.0   \n",
       "120      552 BOTANY ROAD, ALEXANDRIA NSW 2015     6187500 2016-04-21   834.7   \n",
       "121      556 BOTANY ROAD, ALEXANDRIA NSW 2015     6880000 2016-08-24   954.8   \n",
       "122      562 BOTANY ROAD, ALEXANDRIA NSW 2015    81075000 2016-07-10  2517.0   \n",
       "123  57/1 SHIRLEY STREET, ALEXANDRIA NSW 2015      845000 2016-12-06     0.0   \n",
       "\n",
       "    STRATA/NON STRATA MULTI-PROPERTY SALE (Y/N)  PROPERTY NUMBER  \\\n",
       "113        NON STRATA                        No          2109595   \n",
       "114        NON STRATA                        No          2109596   \n",
       "115        NON STRATA                        No          2109603   \n",
       "116        NON STRATA                   Yes (2)          2109608   \n",
       "117        NON STRATA                   Yes (2)          2109643   \n",
       "119        NON STRATA                        No          2109645   \n",
       "120        NON STRATA                        No          2109774   \n",
       "121        NON STRATA                        No          2109775   \n",
       "122        NON STRATA                  Yes (11)          2109777   \n",
       "123            STRATA                        No          2993673   \n",
       "\n",
       "    DEALING NUMBER EXTRACTION DATE  \n",
       "113       AJ521496   23 April 2017  \n",
       "114       AJ521481   23 April 2017  \n",
       "115       AJ149475   23 April 2017  \n",
       "116       AI441592   23 April 2017  \n",
       "117       AH182986   23 April 2017  \n",
       "119       AH232908   23 April 2017  \n",
       "120       AK509170   23 April 2017  \n",
       "121       AK950587   23 April 2017  \n",
       "122       AM180777   23 April 2017  \n",
       "123       AM175877   23 April 2017  "
      ]
     },
     "execution_count": 12,
     "metadata": {},
     "output_type": "execute_result"
    }
   ],
   "source": [
    "sales_data = pd.read_csv(filepath,\n",
    "                         infer_datetime_format=True,\n",
    "                         parse_dates=[\"SALE DATE\"],\n",
    "                         dayfirst=True)\n",
    "\n",
    "sales_data = sales_data.drop_duplicates(subset=[\"DEALING NUMBER\"])\n",
    "\n",
    "sales_data[110:125].head(10)"
   ]
  },
  {
   "cell_type": "markdown",
   "metadata": {
    "deletable": true,
    "editable": true
   },
   "source": [
    "### Graph that"
   ]
  },
  {
   "cell_type": "code",
   "execution_count": 13,
   "metadata": {
    "collapsed": false,
    "deletable": true,
    "editable": true,
    "scrolled": true
   },
   "outputs": [
    {
     "data": {
      "text/html": [
       "<div>\n",
       "<table border=\"1\" class=\"dataframe\">\n",
       "  <thead>\n",
       "    <tr style=\"text-align: right;\">\n",
       "      <th></th>\n",
       "      <th>ADDRESS</th>\n",
       "      <th>SALE PRICE</th>\n",
       "      <th>SALE DATE</th>\n",
       "      <th>AREA</th>\n",
       "      <th>STRATA/NON STRATA</th>\n",
       "      <th>MULTI-PROPERTY SALE (Y/N)</th>\n",
       "      <th>PROPERTY NUMBER</th>\n",
       "      <th>DEALING NUMBER</th>\n",
       "      <th>EXTRACTION DATE</th>\n",
       "      <th>SALE MONTH</th>\n",
       "    </tr>\n",
       "  </thead>\n",
       "  <tbody>\n",
       "    <tr>\n",
       "      <th>0</th>\n",
       "      <td>34 ALEXANDER STREET, ALEXANDRIA NSW 2015</td>\n",
       "      <td>1285000</td>\n",
       "      <td>2016-03-16</td>\n",
       "      <td>88.53</td>\n",
       "      <td>NON STRATA</td>\n",
       "      <td>No</td>\n",
       "      <td>2106326</td>\n",
       "      <td>AK410905</td>\n",
       "      <td>23 April 2017</td>\n",
       "      <td>3</td>\n",
       "    </tr>\n",
       "  </tbody>\n",
       "</table>\n",
       "</div>"
      ],
      "text/plain": [
       "                                    ADDRESS  SALE PRICE  SALE DATE   AREA  \\\n",
       "0  34 ALEXANDER STREET, ALEXANDRIA NSW 2015     1285000 2016-03-16  88.53   \n",
       "\n",
       "  STRATA/NON STRATA MULTI-PROPERTY SALE (Y/N)  PROPERTY NUMBER DEALING NUMBER  \\\n",
       "0        NON STRATA                        No          2106326       AK410905   \n",
       "\n",
       "  EXTRACTION DATE  SALE MONTH  \n",
       "0   23 April 2017           3  "
      ]
     },
     "execution_count": 13,
     "metadata": {},
     "output_type": "execute_result"
    }
   ],
   "source": [
    "def get_month(x):\n",
    "    return x[\"SALE DATE\"].month\n",
    "\n",
    "sales_data[\"SALE MONTH\"] = sales_data.apply(get_month, axis=1)\n",
    "sales_data.head(1)"
   ]
  },
  {
   "cell_type": "code",
   "execution_count": 57,
   "metadata": {
    "collapsed": false,
    "deletable": true,
    "editable": true
   },
   "outputs": [
    {
     "data": {
      "image/png": "[encoded data removed]",
      "text/plain": [
       "<matplotlib.figure.Figure at 0x7f8ff8a4b0d0>"
      ]
     },
     "metadata": {},
     "output_type": "display_data"
    }
   ],
   "source": [
    "monthly_sales = sales_data[[\"SALE PRICE\", \"SALE MONTH\"]].groupby(\"SALE MONTH\").sum()\n",
    "plt.plot(monthly_sales)\n",
    "plt.show()"
   ]
  }
 ],
 "metadata": {
  "kernelspec": {
   "display_name": "Python 2",
   "language": "python",
   "name": "python2"
  },
  "language_info": {
   "codemirror_mode": {
    "name": "ipython",
    "version": 2
   },
   "file_extension": ".py",
   "mimetype": "text/x-python",
   "name": "python",
   "nbconvert_exporter": "python",
   "pygments_lexer": "ipython2",
   "version": "2.7.12"
  }
 },
 "nbformat": 4,
 "nbformat_minor": 2
}
